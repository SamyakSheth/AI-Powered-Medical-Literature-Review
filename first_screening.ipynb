{
 "cells": [
  {
   "cell_type": "code",
   "execution_count": 1,
   "metadata": {},
   "outputs": [],
   "source": [
    "import pandas as pd\n",
    "from langchain_core.prompts import ChatPromptTemplate\n",
    "from langchain_ollama import ChatOllama\n",
    "import json\n",
    "\n"
   ]
  },
  {
   "cell_type": "markdown",
   "metadata": {},
   "source": [
    "## Load Data (Pubmed pdf CSV containing title,abstrct and the name of the pdf stored)"
   ]
  },
  {
   "cell_type": "code",
   "execution_count": 2,
   "metadata": {},
   "outputs": [
    {
     "data": {
      "text/plain": [
       "300"
      ]
     },
     "execution_count": 2,
     "metadata": {},
     "output_type": "execute_result"
    }
   ],
   "source": [
    "data = pd.read_csv('pubmed_pdfs.csv')\n",
    "data = data[data.titles != 'Not Found']\n",
    "data=data[data.pdfs != 'No pdf']\n",
    "len(data)"
   ]
  },
  {
   "cell_type": "code",
   "execution_count": 3,
   "metadata": {},
   "outputs": [],
   "source": [
    "# Basic text cleaning function \n",
    "def clean_abstracts(text):\n",
    "    return text.replace(\"Abstract\\n\",\"\") \n",
    "data.abstracts = data.abstracts.apply(lambda x: clean_abstracts(x))"
   ]
  },
  {
   "cell_type": "markdown",
   "metadata": {},
   "source": [
    "## Creating a Class for the Meidcal Literauture Review System. "
   ]
  },
  {
   "cell_type": "code",
   "execution_count": 5,
   "metadata": {},
   "outputs": [],
   "source": [
    "from langchain_core.prompts import ChatPromptTemplate\n",
    "from langchain_ollama import ChatOllama\n",
    "\n",
    "class MedicalLiteratureReview:\n",
    "    def __init__(self, temperature=0, format='json'):\n",
    "        # Initialize the ChatOllama model with the given parameters\n",
    "        self.llm = None\n",
    "        self.prompt = None\n",
    "        self.chain=None\n",
    "        self.responses = []\n",
    "        self.temperature = temperature\n",
    "        self.format = format\n",
    "        # self.num_gpu = num_gpu\n",
    "        # self.num_predict=num_predict\n",
    "\n",
    "\n",
    "    def setup_llm(self,model_name = 'llama3'):  \n",
    "        self.llm = ChatOllama(\n",
    "            model=model_name,\n",
    "            temperature=self.temperature,\n",
    "            format=self.format\n",
    "        )\n",
    "    \n",
    "    def setup_chain(self):\n",
    "        # Initialize the ChatPromptTemplate with the given message format\n",
    "        system_prompt = '''You are a Medical Literature Review Expert. Based on the given title and abstract, answer the following question correctly and provide reasons to support your answer. The output should be in JSON format with the following fields:\\n- \\\"answer\\\": Yes, No, or Unknown\\n- \\\"reason\\\": A brief explanation for your decision'''\n",
    "        self.prompt = ChatPromptTemplate.from_messages(\n",
    "            [\n",
    "                (\"system\", \"Title: {title}\\nAbstract: {abstract}\\n\" + system_prompt),\n",
    "                (\"human\", \"\\nQuestion: {input}\"),\n",
    "            ]\n",
    "        )\n",
    "\n",
    "        self.chain = self.prompt | self.llm\n",
    "    \n",
    "\n",
    "    def ask_questions(self, title, abstract, questions):\n",
    "        self.responses=[]\n",
    "        for question in questions: \n",
    "            # Process the request through the chain\n",
    "            response = self.chain.invoke({\"title\": title,\"abstract\": abstract,\"input\": question})\n",
    "            self.responses.append(response.content)\n",
    "        # Return the response\n",
    "        return self.responses\n",
    "\n",
    "review_expert = MedicalLiteratureReview()\n",
    "review_expert.setup_llm()\n",
    "review_expert.setup_chain()"
   ]
  },
  {
   "cell_type": "code",
   "execution_count": null,
   "metadata": {},
   "outputs": [],
   "source": [
    "# Import necessary classes from langchain_core and langchain_ollama libraries\n",
    "from langchain_core.prompts import ChatPromptTemplate\n",
    "from langchain_ollama import ChatOllama\n",
    "\n",
    "# Define a class for conducting medical literature reviews\n",
    "class MedicalLiteratureReview:\n",
    "    def __init__(self, temperature=0, format='json'):\n",
    "        # Initialize the class with default temperature and output format\n",
    "        # The temperature controls the randomness of the model's responses\n",
    "        # The format specifies the output format (e.g., 'json')\n",
    "        \n",
    "        # Initialize the ChatOllama model and other necessary attributes as None\n",
    "        self.llm = None\n",
    "        self.prompt = None\n",
    "        self.chain = None\n",
    "        self.responses = []  # To store responses from the model\n",
    "        self.temperature = temperature  # Temperature setting for the model\n",
    "        self.format = format  # Output format (e.g., JSON)\n",
    "        \n",
    "        # Placeholder for additional attributes such as num_gpu, num_predict if needed\n",
    "        # self.num_gpu = num_gpu\n",
    "        # self.num_predict = num_predict\n",
    "\n",
    "    # Method to set up the language model (LLM) using ChatOllama\n",
    "    def setup_llm(self, model_name='llama3'):\n",
    "        # Initialize the ChatOllama model with the specified model name\n",
    "        # This sets up the LLM with the desired model, temperature, and output format\n",
    "        self.llm = ChatOllama(\n",
    "            model=model_name,\n",
    "            temperature=self.temperature,\n",
    "            format=self.format\n",
    "        )\n",
    "\n",
    "    # Method to set up the prompt template and the processing chain\n",
    "    def setup_chain(self):\n",
    "        # Define a system prompt that instructs the model to act as a Medical Literature Review Expert\n",
    "        # The system prompt includes instructions on how to format the output in JSON\n",
    "        system_prompt = '''You are a Medical Literature Review Expert. Based on the given title and abstract, answer the following question correctly and provide reasons to support your answer. The output should be in JSON format with the following fields:\\n- \"answer\": Yes, No, or Unknown\\n- \"reason\": A brief explanation for your decision'''\n",
    "\n",
    "        # Create a ChatPromptTemplate from the defined system prompt and human input\n",
    "        self.prompt = ChatPromptTemplate.from_messages(\n",
    "            [\n",
    "                # The system message provides the title, abstract, and instructions for the model\n",
    "                (\"system\", \"Title: {title}\\nAbstract: {abstract}\\n\" + system_prompt),\n",
    "                # The human message is the question to be answered based on the title and abstract\n",
    "                (\"human\", \"\\nQuestion: {input}\"),\n",
    "            ]\n",
    "        )\n",
    "\n",
    "        # Combine the prompt template with the LLM to create a processing chain\n",
    "        self.chain = self.prompt | self.llm\n",
    "\n",
    "    # Method to ask questions based on the provided title and abstract\n",
    "    def ask_questions(self, title, abstract, questions):\n",
    "        # Re-initialize responses to empty list to store responses\n",
    "        self.responses = []\n",
    "        \n",
    "        # Iterate over each question provided in the list\n",
    "        for question in questions:\n",
    "            # Invoke the processing chain with the title, abstract, and current question\n",
    "            response = self.chain.invoke({\"title\": title, \"abstract\": abstract, \"input\": question})\n",
    "            # Append the model's response to the responses list\n",
    "            self.responses.append(response.content)\n",
    "        \n",
    "        # Return the list of responses\n",
    "        return self.responses\n",
    "\n",
    "\n",
    "\n",
    "review_expert = MedicalLiteratureReview()  # Create an instance of MedicalLiteratureReview\n",
    "review_expert.setup_llm()                  # Set up the language model\n",
    "review_expert.setup_chain()                # Set up the prompt template and processing chain\n",
    "\n",
    "# You can now use the `ask_questions` method to evaluate medical literature based on titles, abstracts, and questions.\n",
    "#review_expert.ask_questions(title,abstract,list_of_questions)  \n"
   ]
  },
  {
   "cell_type": "markdown",
   "metadata": {},
   "source": [
    "## Run Models on the decided input questions "
   ]
  },
  {
   "cell_type": "markdown",
   "metadata": {},
   "source": [
    "## LLama3"
   ]
  },
  {
   "cell_type": "code",
   "execution_count": 6,
   "metadata": {},
   "outputs": [
    {
     "name": "stderr",
     "output_type": "stream",
     "text": [
      "100%|██████████| 300/300 [2:55:47<00:00, 35.16s/it]  \n"
     ]
    }
   ],
   "source": [
    "from tqdm import tqdm\n",
    "\n",
    "review_expert = MedicalLiteratureReview()\n",
    "review_expert.setup_llm()\n",
    "review_expert.setup_chain()\n",
    "\n",
    "\n",
    "titles = list(data.titles)\n",
    "abstracts = list(data.abstracts)\n",
    "papers = [(a,b) for a,b in zip(titles,abstracts)]\n",
    "\n",
    "\n",
    "study_design = ['Is it is a review article?', \"Is this paper a meta analysis?\", \"Is this paper an editorial?\", \"Is this paper a conference proceedings?\", \"Is this paper a letter to editors?\", \"Is this paper abstract only?\"]\n",
    "\n",
    "\n",
    "population = [\"Does this paper mention human patients or participants above the age of 18?\",\n",
    "             \"Does this paper mention the use of any vestubular testing methods? (A few examples are caloric test, rotatory chair test, (video) head impulse test)\", \"Based on the abstract, can you determine if the population of this research is related to either of these - unilateral vestibular hypofunction or Unilateral vestibular loss or Unilateral vestibular failure or Unilateral vestibular dysfunction or Unilateral vestibulopathy or Unilateral vestibular deafferentation or Unilateral vestibular disease or Unilateral vestibular disorder or Unilateral vestibular syndrome?\"]\n",
    "\n",
    "\n",
    "outcome = [\n",
    "        \"Does this paper describe any chronic or Persistent or Enduring or Permanent or Uncompensated or Continuous or Recurrent symptomps, signs or complaints?\",\n",
    "        \"Does this paper describe any patient-reported questionnaires (Dizziness Handicap Inventory, or Vertigo Symptom Scales or Visual Analogue Scale)?\",\n",
    "        \"Does this paper mention duration of symptoms to be more than 3 months?\"]\n",
    "\n",
    "study_outputs = []\n",
    "pop_outputs = []\n",
    "out_outputs = []\n",
    "\n",
    "for title,abstract in tqdm(papers): \n",
    "    study_outputs.append(review_expert.ask_questions( title, abstract, study_design))\n",
    "    pop_outputs.append(review_expert.ask_questions( title, abstract, population))\n",
    "    out_outputs.append(review_expert.ask_questions( title, abstract, outcome))\n",
    "    "
   ]
  },
  {
   "cell_type": "code",
   "execution_count": 4,
   "metadata": {},
   "outputs": [
    {
     "name": "stdout",
     "output_type": "stream",
     "text": [
      "DataFrame saved\n"
     ]
    }
   ],
   "source": [
    "data1 = {\n",
    "    'StudyDesign':study_outputs,\n",
    "    'Population': pop_outputs,\n",
    "    'Outcome': out_outputs\n",
    "}\n",
    "df = pd.DataFrame(data1)\n",
    "\n",
    "df.to_csv('first_screening_outputs/llama3.csv', index=False)\n",
    "print(\"DataFrame saved\")"
   ]
  },
  {
   "cell_type": "markdown",
   "metadata": {},
   "source": [
    "## LLama3.1"
   ]
  },
  {
   "cell_type": "code",
   "execution_count": 9,
   "metadata": {},
   "outputs": [
    {
     "name": "stderr",
     "output_type": "stream",
     "text": [
      "100%|██████████| 300/300 [3:05:29<00:00, 37.10s/it]  \n"
     ]
    }
   ],
   "source": [
    "from tqdm import tqdm\n",
    "\n",
    "review_expert = MedicalLiteratureReview()\n",
    "review_expert.setup_llm(\"llama3.1\")\n",
    "review_expert.setup_chain()\n",
    "\n",
    "\n",
    "titles = list(data.titles)\n",
    "abstracts = list(data.abstracts)\n",
    "papers = [(a,b) for a,b in zip(titles,abstracts)]\n",
    "\n",
    "\n",
    "study_design = ['Is it is a review article?', \"Is this paper a meta analysis?\", \"Is this paper an editorial?\", \"Is this paper a conference proceedings?\", \"Is this paper a letter to editors?\", \"Is this paper abstract only?\",\"Is this paper written other than English, French and German?\" ]\n",
    "\n",
    "\n",
    "population = [\"Does this paper mention human patients or participants above the age of 18?\",\n",
    "             \"Does this paper mention the use of any vestubular testing methods? (A few examples are caloric test, rotatory chair test, (video) head impulse test)\", \"Based on the abstract, can you determine if the population of this research is related to either of these - unilateral vestibular hypofunction or Unilateral vestibular loss or Unilateral vestibular failure or Unilateral vestibular dysfunction or Unilateral vestibulopathy or Unilateral vestibular deafferentation or Unilateral vestibular disease or Unilateral vestibular disorder or Unilateral vestibular syndrome?\"]\n",
    "\n",
    "\n",
    "outcome = [\n",
    "        \"Does this paper describe any chronic or Persistent or Enduring or Permanent or Uncompensated or Continuous or Recurrent symptomps, signs or complaints?\",\n",
    "        \"Does this paper describe any patient-reported questionnaires (Dizziness Handicap Inventory, or Vertigo Symptom Scales or Visual Analogue Scale)?\",\n",
    "        \"Does this paper mention duration of symptoms to be more than 3 months?\"]\n",
    "\n",
    "study_outputs = []\n",
    "pop_outputs = []\n",
    "out_outputs = []\n",
    "\n",
    "for title,abstract in tqdm(papers): \n",
    "    study_outputs.append(review_expert.ask_questions( title, abstract, study_design))\n",
    "    pop_outputs.append(review_expert.ask_questions( title, abstract, population))\n",
    "    out_outputs.append(review_expert.ask_questions( title, abstract, outcome))\n",
    "    "
   ]
  },
  {
   "cell_type": "code",
   "execution_count": 5,
   "metadata": {},
   "outputs": [
    {
     "name": "stdout",
     "output_type": "stream",
     "text": [
      "DataFrame saved\n"
     ]
    }
   ],
   "source": [
    "data1 = {\n",
    "    'StudyDesign':study_outputs,\n",
    "    'Population': pop_outputs,\n",
    "    'Outcome': out_outputs\n",
    "}\n",
    "df = pd.DataFrame(data1)\n",
    "\n",
    "df.to_csv('first_screening_outputs/llama3.1.csv', index=False)\n",
    "print(\"DataFrame saved\")"
   ]
  },
  {
   "cell_type": "markdown",
   "metadata": {},
   "source": [
    "## Gemma2"
   ]
  },
  {
   "cell_type": "code",
   "execution_count": 11,
   "metadata": {},
   "outputs": [
    {
     "name": "stderr",
     "output_type": "stream",
     "text": [
      "100%|██████████| 300/300 [3:17:58<00:00, 39.59s/it]  \n"
     ]
    }
   ],
   "source": [
    "from tqdm import tqdm\n",
    "\n",
    "review_expert = MedicalLiteratureReview()\n",
    "review_expert.setup_llm(\"gemma2\")\n",
    "review_expert.setup_chain()\n",
    "\n",
    "\n",
    "titles = list(data.titles)\n",
    "abstracts = list(data.abstracts)\n",
    "papers = [(a,b) for a,b in zip(titles,abstracts)]\n",
    "\n",
    "\n",
    "study_design = ['Is it is a review article?', \"Is this paper a meta analysis?\", \"Is this paper an editorial?\", \"Is this paper a conference proceedings?\", \"Is this paper a letter to editors?\", \"Is this paper abstract only?\",\"Is this paper written other than English, French and German?\" ]\n",
    "\n",
    "\n",
    "population = [\"Does this paper mention human patients or participants above the age of 18?\",\n",
    "             \"Does this paper mention the use of any vestubular testing methods? (A few examples are caloric test, rotatory chair test, (video) head impulse test)\", \"Based on the abstract, can you determine if the population of this research is related to either of these - unilateral vestibular hypofunction or Unilateral vestibular loss or Unilateral vestibular failure or Unilateral vestibular dysfunction or Unilateral vestibulopathy or Unilateral vestibular deafferentation or Unilateral vestibular disease or Unilateral vestibular disorder or Unilateral vestibular syndrome?\"]\n",
    "\n",
    "\n",
    "outcome = [\n",
    "        \"Does this paper describe any chronic or Persistent or Enduring or Permanent or Uncompensated or Continuous or Recurrent symptomps, signs or complaints?\",\n",
    "        \"Does this paper describe any patient-reported questionnaires (Dizziness Handicap Inventory, or Vertigo Symptom Scales or Visual Analogue Scale)?\",\n",
    "        \"Does this paper mention duration of symptoms to be more than 3 months?\"]\n",
    "\n",
    "study_outputs = []\n",
    "pop_outputs = []\n",
    "out_outputs = []\n",
    "\n",
    "for title,abstract in tqdm(papers): \n",
    "    study_outputs.append(review_expert.ask_questions( title, abstract, study_design))\n",
    "    pop_outputs.append(review_expert.ask_questions( title, abstract, population))\n",
    "    out_outputs.append(review_expert.ask_questions( title, abstract, outcome))\n",
    "    "
   ]
  },
  {
   "cell_type": "code",
   "execution_count": 12,
   "metadata": {},
   "outputs": [
    {
     "name": "stdout",
     "output_type": "stream",
     "text": [
      "DataFrame saved to output.csv\n"
     ]
    }
   ],
   "source": [
    "data1 = {\n",
    "    'StudyDesign':study_outputs,\n",
    "    'Population': pop_outputs,\n",
    "    'Outcome': out_outputs\n",
    "}\n",
    "df = pd.DataFrame(data1)\n",
    "\n",
    "df.to_csv('first_screening_outputs/gemma.csv', index=False)\n",
    "print(\"DataFrame saved\")"
   ]
  }
 ],
 "metadata": {
  "kernelspec": {
   "display_name": "rag-chatbot",
   "language": "python",
   "name": "python3"
  },
  "language_info": {
   "codemirror_mode": {
    "name": "ipython",
    "version": 3
   },
   "file_extension": ".py",
   "mimetype": "text/x-python",
   "name": "python",
   "nbconvert_exporter": "python",
   "pygments_lexer": "ipython3",
   "version": "3.10.14"
  }
 },
 "nbformat": 4,
 "nbformat_minor": 2
}

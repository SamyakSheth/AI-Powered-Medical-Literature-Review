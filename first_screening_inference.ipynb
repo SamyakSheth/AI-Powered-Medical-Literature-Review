{
 "cells": [
  {
   "cell_type": "code",
   "execution_count": 4,
   "metadata": {},
   "outputs": [],
   "source": [
    "import pandas as pd\n",
    "import json\n",
    "import re\n"
   ]
  },
  {
   "cell_type": "code",
   "execution_count": 16,
   "metadata": {},
   "outputs": [
    {
     "data": {
      "text/plain": [
       "300"
      ]
     },
     "execution_count": 16,
     "metadata": {},
     "output_type": "execute_result"
    }
   ],
   "source": [
    "data = pd.read_csv('pubmed_pdfs.csv')\n",
    "data = data[data.titles != 'Not Found']\n",
    "data=data[data.pdfs != 'No pdf']\n",
    "len(data)"
   ]
  },
  {
   "cell_type": "code",
   "execution_count": 17,
   "metadata": {},
   "outputs": [],
   "source": [
    "ground_truth = list(data.final_selection)"
   ]
  },
  {
   "cell_type": "code",
   "execution_count": null,
   "metadata": {},
   "outputs": [],
   "source": []
  },
  {
   "cell_type": "markdown",
   "metadata": {},
   "source": [
    "## Creating Inferencing Functions"
   ]
  },
  {
   "cell_type": "code",
   "execution_count": 18,
   "metadata": {},
   "outputs": [],
   "source": [
    "def study_inference(study_output): \n",
    "\n",
    "    study_selection = []\n",
    "    study_explanation = []\n",
    "\n",
    "    for paper in study_output:\n",
    "        if paper == 'Error loading the pdf':\n",
    "            continue\n",
    "        check_list = []\n",
    "        reasons = []\n",
    "        for ele in paper:  \n",
    "            try: \n",
    "                # Use regular expressions to search for whole words 'yes'\n",
    "                ele = json.loads(ele)\n",
    "            except: \n",
    "                study_explanation.append(\"Bad Output\")\n",
    "                study_selection.append(1)\n",
    "                continue\n",
    "            match_yes = re.search(r'\\byes\\b', ele['answer'].lower())\n",
    "            check_list.append(match_yes is not None)\n",
    "            reasons.append(ele['reason'])\n",
    "        if sum(check_list) == 0:\n",
    "            study_explanation.append(\"\")\n",
    "            study_selection.append(1)\n",
    "        else:\n",
    "            study_explanation.append(reasons[check_list.index(True)])\n",
    "            study_selection.append(0)\n",
    "            \n",
    "    return study_selection,study_explanation\n",
    "\n",
    "\n",
    "def population_inference(population_output):\n",
    "    pop_selection = []\n",
    "    pop_explanation = []\n",
    "\n",
    "    for paper in population_output:\n",
    "        if paper == 'Error loading the pdf':\n",
    "            continue\n",
    "        check_list = []\n",
    "        reasons = []\n",
    "        for i,ele in enumerate(paper):  \n",
    "            # Use regular expressions to search for whole words 'no'\n",
    "            try: \n",
    "                ele = json.loads(ele)\n",
    "                match_no = re.search(r'\\bno\\b', ele['answer'].lower())\n",
    "                reasons.append(ele['reason'])\n",
    "            except: \n",
    "                match_no = re.search(r'\\bno\\b', ele.lower().replace('\"',''))\n",
    "                reasons.append(ele)\n",
    "            check_list.append(match_no is not None)\n",
    "            \n",
    "        if sum(check_list) == 0:\n",
    "            pop_explanation.append(\"\")\n",
    "            pop_selection.append(1)\n",
    "        else:\n",
    "            pop_explanation.append(reasons[check_list.index(True)])\n",
    "            pop_selection.append(0)\n",
    "    return pop_selection,pop_explanation\n",
    "\n",
    "def outcome_inference(outcome_output): \n",
    "\n",
    "    outcome_selection = []\n",
    "    outcome_explanation = []\n",
    "\n",
    "    for paper in outcome_output:\n",
    "        if paper == 'Error Loading the pdf':\n",
    "            continue\n",
    "        check_list = []\n",
    "        reasons = []\n",
    "        for i,ele in enumerate(paper): \n",
    "            # Use regular expressions to search for whole words 'no'\n",
    "            ele = json.loads(ele)\n",
    "            match_no = re.search(r'\\bno\\b', ele['answer'].lower())\n",
    "            check_list.append(match_no is not None)\n",
    "            reasons.append(ele['reason'])\n",
    "        if sum(check_list) == 0:\n",
    "            outcome_explanation.append(\"\")\n",
    "            outcome_selection.append(1)\n",
    "        else:\n",
    "            outcome_explanation.append(reasons[check_list.index(True)])\n",
    "            outcome_selection.append(0)\n",
    "    \n",
    "    return outcome_selection,outcome_explanation\n"
   ]
  },
  {
   "cell_type": "code",
   "execution_count": null,
   "metadata": {},
   "outputs": [],
   "source": []
  },
  {
   "cell_type": "markdown",
   "metadata": {},
   "source": [
    "## LLama 3"
   ]
  },
  {
   "cell_type": "code",
   "execution_count": 19,
   "metadata": {},
   "outputs": [],
   "source": [
    "output = pd.read_csv(\"first_screening_outputs/llama3.csv\")\n",
    "study_output = list(output.StudyDesign)\n",
    "population_output = list(output.Population)\n",
    "outcome_output = list(output.Outcome)\n",
    "\n",
    "study_output = [eval(ele) for ele in study_output if ele != 'Error loading the pdf']\n",
    "population_output = [eval(ele) for ele in population_output if ele != 'Error loading the pdf']\n",
    "outcome_output = [eval(ele) for ele in outcome_output if ele != 'Error loading the pdf']"
   ]
  },
  {
   "cell_type": "code",
   "execution_count": 20,
   "metadata": {},
   "outputs": [],
   "source": [
    "study_selection,study_explanation = study_inference(study_output)\n",
    "pop_selection,pop_explanation = population_inference(population_output)\n",
    "outcome_selection,outcome_explanation = outcome_inference(outcome_output)"
   ]
  },
  {
   "cell_type": "code",
   "execution_count": 21,
   "metadata": {},
   "outputs": [],
   "source": [
    "# Create the resultant list using list comprehension and zip\n",
    "resultant_list = [1 if a == b == c == 1 else 0 for a, b, c in zip(study_selection, pop_selection, outcome_selection)]"
   ]
  },
  {
   "cell_type": "code",
   "execution_count": 22,
   "metadata": {},
   "outputs": [
    {
     "name": "stdout",
     "output_type": "stream",
     "text": [
      "              precision    recall  f1-score   support\n",
      "\n",
      "         0.0       0.91      0.93      0.92       270\n",
      "         1.0       0.20      0.17      0.18        30\n",
      "\n",
      "    accuracy                           0.85       300\n",
      "   macro avg       0.55      0.55      0.55       300\n",
      "weighted avg       0.84      0.85      0.84       300\n",
      "\n"
     ]
    }
   ],
   "source": [
    "import numpy as np\n",
    "from sklearn.metrics import confusion_matrix\n",
    "from sklearn.metrics import classification_report\n",
    "\n",
    "\n",
    "# Generate the confusion matrix\n",
    "cm = confusion_matrix(ground_truth, resultant_list)\n",
    "report = classification_report(ground_truth,resultant_list)\n",
    "print(report)"
   ]
  },
  {
   "cell_type": "code",
   "execution_count": 23,
   "metadata": {},
   "outputs": [
    {
     "data": {
      "image/png": "[encoded data removed]",
      "text/plain": [
       "<Figure size 800x600 with 2 Axes>"
      ]
     },
     "metadata": {},
     "output_type": "display_data"
    }
   ],
   "source": [
    "import matplotlib.pyplot as plt\n",
    "import seaborn as sns\n",
    "\n",
    "# Plotting the confusion matrix\n",
    "plt.figure(figsize=(8, 6))\n",
    "sns.heatmap(cm, annot=True, fmt='d', cmap='Blues', \n",
    "            xticklabels=['Rejected', 'Selected'],\n",
    "            yticklabels=['Rejected', 'Selected'])\n",
    "\n",
    "plt.xlabel('Predicted Labels')\n",
    "plt.ylabel('True Labels')\n",
    "plt.title('Confusion Matrix')\n",
    "plt.show()"
   ]
  },
  {
   "cell_type": "code",
   "execution_count": null,
   "metadata": {},
   "outputs": [],
   "source": []
  },
  {
   "cell_type": "code",
   "execution_count": null,
   "metadata": {},
   "outputs": [],
   "source": []
  },
  {
   "cell_type": "markdown",
   "metadata": {},
   "source": [
    "## Gemma2"
   ]
  },
  {
   "cell_type": "code",
   "execution_count": 10,
   "metadata": {},
   "outputs": [],
   "source": [
    "output = pd.read_csv(\"first_screening_outputs/gemma.csv\")\n",
    "study_output = list(output.StudyDesign)\n",
    "population_output = list(output.Population)\n",
    "outcome_output = list(output.Outcome)\n",
    "\n",
    "study_output = [eval(ele) for ele in study_output if ele != 'Error loading the pdf']\n",
    "population_output = [eval(ele) for ele in population_output if ele != 'Error loading the pdf']\n",
    "outcome_output = [eval(ele) for ele in outcome_output if ele != 'Error loading the pdf']"
   ]
  },
  {
   "cell_type": "code",
   "execution_count": 11,
   "metadata": {},
   "outputs": [],
   "source": [
    "study_selection,study_explanation = study_inference(study_output)\n",
    "pop_selection,pop_explanation = population_inference(population_output)\n",
    "outcome_selection,outcome_explanation = outcome_inference(outcome_output)"
   ]
  },
  {
   "cell_type": "code",
   "execution_count": 12,
   "metadata": {},
   "outputs": [],
   "source": [
    "# Create the resultant list using list comprehension and zip\n",
    "resultant_list = [1 if a == b == c == 1 else 0 for a, b, c in zip(study_selection, pop_selection, outcome_selection)]"
   ]
  },
  {
   "cell_type": "code",
   "execution_count": 13,
   "metadata": {},
   "outputs": [
    {
     "name": "stdout",
     "output_type": "stream",
     "text": [
      "              precision    recall  f1-score   support\n",
      "\n",
      "         0.0       0.91      0.91      0.91       270\n",
      "         1.0       0.23      0.23      0.23        30\n",
      "\n",
      "    accuracy                           0.85       300\n",
      "   macro avg       0.57      0.57      0.57       300\n",
      "weighted avg       0.85      0.85      0.85       300\n",
      "\n"
     ]
    }
   ],
   "source": [
    "import numpy as np\n",
    "from sklearn.metrics import confusion_matrix\n",
    "from sklearn.metrics import classification_report\n",
    "\n",
    "\n",
    "# Generate the confusion matrix\n",
    "cm = confusion_matrix(ground_truth, resultant_list)\n",
    "report = classification_report(ground_truth,resultant_list)\n",
    "print(report)"
   ]
  },
  {
   "cell_type": "code",
   "execution_count": 14,
   "metadata": {},
   "outputs": [
    {
     "data": {
      "image/png": "[encoded data removed]",
      "text/plain": [
       "<Figure size 800x600 with 2 Axes>"
      ]
     },
     "metadata": {},
     "output_type": "display_data"
    }
   ],
   "source": [
    "import matplotlib.pyplot as plt\n",
    "import seaborn as sns\n",
    "\n",
    "# Plotting the confusion matrix\n",
    "plt.figure(figsize=(8, 6))\n",
    "sns.heatmap(cm, annot=True, fmt='d', cmap='Blues', \n",
    "            xticklabels=['Rejected', 'Selected'],\n",
    "            yticklabels=['Rejected', 'Selected'])\n",
    "\n",
    "plt.xlabel('Predicted Labels')\n",
    "plt.ylabel('True Labels')\n",
    "plt.title('Confusion Matrix')\n",
    "plt.show()"
   ]
  },
  {
   "cell_type": "code",
   "execution_count": null,
   "metadata": {},
   "outputs": [],
   "source": []
  },
  {
   "cell_type": "markdown",
   "metadata": {},
   "source": [
    "## LLama 3.1"
   ]
  },
  {
   "cell_type": "code",
   "execution_count": 8,
   "metadata": {},
   "outputs": [],
   "source": [
    "output = pd.read_csv(\"first_screening_outputs/llama3.1.csv\")\n",
    "study_output = list(output.StudyDesign)\n",
    "population_output = list(output.Population)\n",
    "outcome_output = list(output.Outcome)\n",
    "\n",
    "study_output = [eval(ele) for ele in study_output if ele != 'Error loading the pdf']\n",
    "population_output = [eval(ele) for ele in population_output if ele != 'Error loading the pdf']\n",
    "outcome_output = [eval(ele) for ele in outcome_output if ele != 'Error loading the pdf']"
   ]
  },
  {
   "cell_type": "code",
   "execution_count": 9,
   "metadata": {},
   "outputs": [],
   "source": [
    "study_selection,study_explanation = study_inference(study_output)\n",
    "pop_selection,pop_explanation = population_inference(population_output)\n",
    "outcome_selection,outcome_explanation = outcome_inference(outcome_output)"
   ]
  },
  {
   "cell_type": "code",
   "execution_count": 10,
   "metadata": {},
   "outputs": [],
   "source": [
    "# Create the resultant list using list comprehension and zip\n",
    "resultant_list = [1 if a == b == c == 1 else 0 for a, b, c in zip(study_selection, pop_selection, outcome_selection)]"
   ]
  },
  {
   "cell_type": "code",
   "execution_count": 11,
   "metadata": {},
   "outputs": [
    {
     "name": "stdout",
     "output_type": "stream",
     "text": [
      "              precision    recall  f1-score   support\n",
      "\n",
      "         0.0       0.90      1.00      0.95       270\n",
      "         1.0       0.00      0.00      0.00        30\n",
      "\n",
      "    accuracy                           0.90       300\n",
      "   macro avg       0.45      0.50      0.47       300\n",
      "weighted avg       0.81      0.90      0.85       300\n",
      "\n"
     ]
    },
    {
     "name": "stderr",
     "output_type": "stream",
     "text": [
      "/opt/anaconda3/envs/rag-chatbot/lib/python3.10/site-packages/sklearn/metrics/_classification.py:1531: UndefinedMetricWarning: Precision is ill-defined and being set to 0.0 in labels with no predicted samples. Use `zero_division` parameter to control this behavior.\n",
      "  _warn_prf(average, modifier, f\"{metric.capitalize()} is\", len(result))\n",
      "/opt/anaconda3/envs/rag-chatbot/lib/python3.10/site-packages/sklearn/metrics/_classification.py:1531: UndefinedMetricWarning: Precision is ill-defined and being set to 0.0 in labels with no predicted samples. Use `zero_division` parameter to control this behavior.\n",
      "  _warn_prf(average, modifier, f\"{metric.capitalize()} is\", len(result))\n",
      "/opt/anaconda3/envs/rag-chatbot/lib/python3.10/site-packages/sklearn/metrics/_classification.py:1531: UndefinedMetricWarning: Precision is ill-defined and being set to 0.0 in labels with no predicted samples. Use `zero_division` parameter to control this behavior.\n",
      "  _warn_prf(average, modifier, f\"{metric.capitalize()} is\", len(result))\n"
     ]
    }
   ],
   "source": [
    "import numpy as np\n",
    "from sklearn.metrics import confusion_matrix\n",
    "from sklearn.metrics import classification_report\n",
    "\n",
    "\n",
    "# Generate the confusion matrix\n",
    "cm = confusion_matrix(ground_truth, resultant_list)\n",
    "report = classification_report(ground_truth,resultant_list)\n",
    "print(report)"
   ]
  },
  {
   "cell_type": "code",
   "execution_count": 12,
   "metadata": {},
   "outputs": [
    {
     "data": {
      "image/png": "[encoded data removed]",
      "text/plain": [
       "<Figure size 800x600 with 2 Axes>"
      ]
     },
     "metadata": {},
     "output_type": "display_data"
    }
   ],
   "source": [
    "import matplotlib.pyplot as plt\n",
    "import seaborn as sns\n",
    "\n",
    "# Plotting the confusion matrix\n",
    "plt.figure(figsize=(8, 6))\n",
    "sns.heatmap(cm, annot=True, fmt='d', cmap='Blues', \n",
    "            xticklabels=['Rejected', 'Selected'],\n",
    "            yticklabels=['Rejected', 'Selected'])\n",
    "\n",
    "plt.xlabel('Predicted Labels')\n",
    "plt.ylabel('True Labels')\n",
    "plt.title('Confusion Matrix')\n",
    "plt.show()"
   ]
  },
  {
   "cell_type": "code",
   "execution_count": null,
   "metadata": {},
   "outputs": [],
   "source": []
  }
 ],
 "metadata": {
  "kernelspec": {
   "display_name": "rag-chatbot",
   "language": "python",
   "name": "python3"
  },
  "language_info": {
   "codemirror_mode": {
    "name": "ipython",
    "version": 3
   },
   "file_extension": ".py",
   "mimetype": "text/x-python",
   "name": "python",
   "nbconvert_exporter": "python",
   "pygments_lexer": "ipython3",
   "version": "3.10.14"
  }
 },
 "nbformat": 4,
 "nbformat_minor": 2
}

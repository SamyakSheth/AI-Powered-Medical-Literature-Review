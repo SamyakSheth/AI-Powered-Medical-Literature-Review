{
 "cells": [
  {
   "cell_type": "code",
   "execution_count": 10,
   "metadata": {},
   "outputs": [],
   "source": [
    "import pandas as pd \n",
    "import json\n",
    "import re\n",
    "from tqdm import tqdm\n",
    "from rag_llama import RAGBasedChatbot\n",
    "from IPython.display import clear_output\n",
    "import nest_asyncio\n",
    "nest_asyncio.apply()\n",
    "\n"
   ]
  },
  {
   "cell_type": "code",
   "execution_count": 11,
   "metadata": {},
   "outputs": [
    {
     "name": "stdout",
     "output_type": "stream",
     "text": [
      "300\n"
     ]
    }
   ],
   "source": [
    "final_data = pd.read_csv('pubmed_pdfs.csv')\n",
    "final_data.abstracts=final_data.abstracts.apply(lambda x: x.replace(\"Abstract\\n\",\"\"))\n",
    "final_data['type'] = final_data.pdfs.apply(lambda x: type(x))\n",
    "final_data=final_data[final_data.type != float]\n",
    "final_data=final_data[final_data.pdfs != 'No pdf']\n",
    "list_of_pdfs = list(final_data.pdfs)\n",
    "print(len(list_of_pdfs))"
   ]
  },
  {
   "cell_type": "code",
   "execution_count": 12,
   "metadata": {},
   "outputs": [
    {
     "data": {
      "text/plain": [
       "final_selection\n",
       "0.0    270\n",
       "1.0     30\n",
       "Name: count, dtype: int64"
      ]
     },
     "execution_count": 12,
     "metadata": {},
     "output_type": "execute_result"
    }
   ],
   "source": [
    "final_data.final_selection.value_counts()"
   ]
  },
  {
   "cell_type": "code",
   "execution_count": null,
   "metadata": {},
   "outputs": [
    {
     "data": {
      "image/png": "[encoded data removed]",
      "text/plain": [
       "<Figure size 700x700 with 1 Axes>"
      ]
     },
     "metadata": {},
     "output_type": "display_data"
    }
   ],
   "source": [
    "import matplotlib.pyplot as plt\n",
    "\n",
    "# Data\n",
    "labels = ['No', 'Yes']\n",
    "sizes = [270, 30]\n",
    "colors = ['#ff9999','#66b3ff']\n",
    "explode = (0.1, 0)  # explode the 1st slice (i.e. 'No')\n",
    "\n",
    "# Plot\n",
    "plt.figure(figsize=(7, 7))\n",
    "plt.pie(sizes, explode=explode, labels=labels, colors=colors, autopct='%1.1f%%', shadow=False)\n",
    "plt.title('Final Selection Breakdown')\n",
    "plt.show()\n"
   ]
  },
  {
   "cell_type": "markdown",
   "metadata": {},
   "source": [
    "## Spitting Data"
   ]
  },
  {
   "cell_type": "code",
   "execution_count": 5,
   "metadata": {},
   "outputs": [
    {
     "name": "stderr",
     "output_type": "stream",
     "text": [
      "Multiple definitions in dictionary at byte 0x27483 for key /MediaBox\n",
      "Multiple definitions in dictionary at byte 0x2766c for key /MediaBox\n",
      "Multiple definitions in dictionary at byte 0x2781a for key /MediaBox\n",
      "Multiple definitions in dictionary at byte 0x2797b for key /MediaBox\n",
      "Multiple definitions in dictionary at byte 0x27b29 for key /MediaBox\n",
      "Multiple definitions in dictionary at byte 0x27cc7 for key /MediaBox\n",
      "Multiple definitions in dictionary at byte 0x27e65 for key /MediaBox\n",
      "Multiple definitions in dictionary at byte 0x28033 for key /MediaBox\n",
      "Multiple definitions in dictionary at byte 0x281c9 for key /MediaBox\n",
      "Multiple definitions in dictionary at byte 0x283ea for key /MediaBox\n",
      "Multiple definitions in dictionary at byte 0x2857b for key /MediaBox\n",
      "Multiple definitions in dictionary at byte 0x287a4 for key /MediaBox\n",
      "Multiple definitions in dictionary at byte 0x28965 for key /MediaBox\n",
      "Multiple definitions in dictionary at byte 0x313ba for key /MediaBox\n"
     ]
    }
   ],
   "source": [
    "from PyPDF2 import PdfReader\n",
    "\n",
    "def get_pdf_page_count(pdf_path):\n",
    "    \"\"\"Returns the number of pages in a PDF file.\"\"\"\n",
    "    with open(\"pdfs/\"+pdf_path, 'rb') as f:\n",
    "        pdf = PdfReader(f)\n",
    "        return len(pdf.pages)\n",
    "\n",
    "def split_pdfs_by_page_limit(pdf_list, page_limit=1000):\n",
    "    \"\"\"Splits the list of PDFs into chunks where each chunk does not exceed the page limit.\"\"\"\n",
    "    result = []\n",
    "    current_chunk = []\n",
    "    current_page_count = 0\n",
    "\n",
    "    for pdf_path in pdf_list:\n",
    "        page_count = get_pdf_page_count(pdf_path)\n",
    "        \n",
    "        if current_page_count + page_count > page_limit:\n",
    "            # Add the current chunk to result and start a new chunk\n",
    "            result.append(current_chunk)\n",
    "            current_chunk = []\n",
    "            current_page_count = 0\n",
    "        \n",
    "        # Add the PDF to the current chunk\n",
    "        current_chunk.append(pdf_path)\n",
    "        current_page_count += page_count\n",
    "\n",
    "    # Add the last chunk if it has any PDFs\n",
    "    if current_chunk:\n",
    "        result.append(current_chunk)\n",
    "\n",
    "    return result\n",
    "\n",
    "chunks = split_pdfs_by_page_limit(list_of_pdfs, page_limit=1000)\n",
    "\n"
   ]
  },
  {
   "cell_type": "code",
   "execution_count": 7,
   "metadata": {},
   "outputs": [
    {
     "data": {
      "text/plain": [
       "3"
      ]
     },
     "execution_count": 7,
     "metadata": {},
     "output_type": "execute_result"
    }
   ],
   "source": [
    "len(chunks)"
   ]
  },
  {
   "cell_type": "markdown",
   "metadata": {},
   "source": [
    "### Experiment1: Prompt set1"
   ]
  },
  {
   "cell_type": "code",
   "execution_count": 8,
   "metadata": {},
   "outputs": [
    {
     "name": "stderr",
     "output_type": "stream",
     "text": [
      "computing...: 100%|██████████| 76/76 [1:40:05<00:00, 79.02s/it] \n"
     ]
    }
   ],
   "source": [
    "bot = RAGBasedChatbot(\n",
    "    db_faiss_path = 'vectorstores/db_faiss',\n",
    ")\n",
    "bot.setup_llm()\n",
    "bot.setup_embedding()\n",
    "rejected = False\n",
    "final_selection = []\n",
    "final_reasons = []\n",
    "outputs = []\n",
    "wait = False\n",
    "questions = ['Does this paper mention human patients or participants above the age of 18?','Is the study about patients with unilateral vestibular hypofunction?','Does this paper describe any symptoms lasting more than 3 months?','Does this paper mention the use of any vestibular tests?']\n",
    "\n",
    "\n",
    "#change chunks[x] to process the documents x=0,1,2 (there are 3 chunks)\n",
    "\n",
    "for paper in tqdm(chunks[2],desc='computing...'): \n",
    "    path = paper\n",
    "    rejected = False\n",
    "    title = list(final_data[final_data.pdfs == path].titles)[0]\n",
    "    abstract = list(final_data[final_data.pdfs == path].abstracts)[0]\n",
    "\n",
    "    bot.load_document('pdfs/'+path)\n",
    "    bot.preprocess('pdfs/'+path)\n",
    "    bot.split_document()\n",
    "    bot.create_vector_db()\n",
    "    bot.setup_retriever()\n",
    "    bot.setup_reranker()\n",
    "    bot.create_prompt_template(title,abstract)\n",
    "    bot.create_rag_chain()\n",
    "    s=[]\n",
    "    for i,question in enumerate(questions): \n",
    "        try: \n",
    "            response = bot.ask_question(question)\n",
    "            #print(response)\n",
    "        except: \n",
    "            continue\n",
    "        s.append(response)\n",
    "        #print(response['answer'])\n",
    "        answer = json.loads(response['answer'])\n",
    "        try:\n",
    "            match = re.search(r'\\bno\\b', answer['answer'].lower())\n",
    "            # if i ==0 : \n",
    "            #     match = re.search(r'\\byes\\b', answer['answer'].lower())\n",
    "            # else: \n",
    "            #     match = re.search(r'\\bno\\b', answer['answer'].lower())\n",
    "        except: \n",
    "            continue\n",
    "        if match is not None:\n",
    "            final_selection.append(0)\n",
    "            final_reasons.append(answer['reason'])\n",
    "            rejected = True\n",
    "            break\n",
    "        else: \n",
    "            continue\n",
    "    outputs.append(s)\n",
    "    if wait: \n",
    "        break\n",
    "    if not rejected: \n",
    "        final_selection.append(1)\n",
    "        final_reasons.append(\"Null\")\n",
    "    clear_output(wait=True)\n",
    "\n"
   ]
  },
  {
   "cell_type": "code",
   "execution_count": 12,
   "metadata": {},
   "outputs": [],
   "source": [
    "final = []\n",
    "main = []\n",
    "reasons = []\n"
   ]
  },
  {
   "cell_type": "code",
   "execution_count": 13,
   "metadata": {},
   "outputs": [],
   "source": [
    "main.extend(final_selection)\n",
    "reasons.extend(final_reasons)\n",
    "final.extend(outputs)"
   ]
  },
  {
   "cell_type": "code",
   "execution_count": 14,
   "metadata": {},
   "outputs": [
    {
     "data": {
      "text/html": [
       "<div>\n",
       "<style scoped>\n",
       "    .dataframe tbody tr th:only-of-type {\n",
       "        vertical-align: middle;\n",
       "    }\n",
       "\n",
       "    .dataframe tbody tr th {\n",
       "        vertical-align: top;\n",
       "    }\n",
       "\n",
       "    .dataframe thead th {\n",
       "        text-align: right;\n",
       "    }\n",
       "</style>\n",
       "<table border=\"1\" class=\"dataframe\">\n",
       "  <thead>\n",
       "    <tr style=\"text-align: right;\">\n",
       "      <th></th>\n",
       "      <th>Selection</th>\n",
       "      <th>Outputs</th>\n",
       "      <th>Reasons</th>\n",
       "    </tr>\n",
       "  </thead>\n",
       "  <tbody>\n",
       "    <tr>\n",
       "      <th>0</th>\n",
       "      <td>1</td>\n",
       "      <td>[{'input': 'Does this paper mention human pati...</td>\n",
       "      <td>Null</td>\n",
       "    </tr>\n",
       "    <tr>\n",
       "      <th>1</th>\n",
       "      <td>0</td>\n",
       "      <td>[{'input': 'Does this paper mention human pati...</td>\n",
       "      <td>The paper states that 'No recurrent attacks or...</td>\n",
       "    </tr>\n",
       "    <tr>\n",
       "      <th>2</th>\n",
       "      <td>0</td>\n",
       "      <td>[{'input': 'Does this paper mention human pati...</td>\n",
       "      <td>According to the context, the study only inclu...</td>\n",
       "    </tr>\n",
       "    <tr>\n",
       "      <th>3</th>\n",
       "      <td>0</td>\n",
       "      <td>[{'input': 'Does this paper mention human pati...</td>\n",
       "      <td>The study does not mention patients with unila...</td>\n",
       "    </tr>\n",
       "    <tr>\n",
       "      <th>4</th>\n",
       "      <td>0</td>\n",
       "      <td>[{'input': 'Does this paper mention human pati...</td>\n",
       "      <td>The paper mentions three children with iatroge...</td>\n",
       "    </tr>\n",
       "    <tr>\n",
       "      <th>...</th>\n",
       "      <td>...</td>\n",
       "      <td>...</td>\n",
       "      <td>...</td>\n",
       "    </tr>\n",
       "    <tr>\n",
       "      <th>71</th>\n",
       "      <td>0</td>\n",
       "      <td>[{'input': 'Does this paper mention human pati...</td>\n",
       "      <td>The paper does not mention human patients or p...</td>\n",
       "    </tr>\n",
       "    <tr>\n",
       "      <th>72</th>\n",
       "      <td>0</td>\n",
       "      <td>[{'input': 'Does this paper mention human pati...</td>\n",
       "      <td>The study does not report any patients with sy...</td>\n",
       "    </tr>\n",
       "    <tr>\n",
       "      <th>73</th>\n",
       "      <td>1</td>\n",
       "      <td>[{'input': 'Does this paper mention human pati...</td>\n",
       "      <td>Null</td>\n",
       "    </tr>\n",
       "    <tr>\n",
       "      <th>74</th>\n",
       "      <td>0</td>\n",
       "      <td>[{'input': 'Does this paper mention human pati...</td>\n",
       "      <td>The paper only mentions rats (Sprague–Dawley r...</td>\n",
       "    </tr>\n",
       "    <tr>\n",
       "      <th>75</th>\n",
       "      <td>0</td>\n",
       "      <td>[{'input': 'Does this paper mention human pati...</td>\n",
       "      <td>The provided abstract and patient description ...</td>\n",
       "    </tr>\n",
       "  </tbody>\n",
       "</table>\n",
       "<p>76 rows × 3 columns</p>\n",
       "</div>"
      ],
      "text/plain": [
       "    Selection                                            Outputs  \\\n",
       "0           1  [{'input': 'Does this paper mention human pati...   \n",
       "1           0  [{'input': 'Does this paper mention human pati...   \n",
       "2           0  [{'input': 'Does this paper mention human pati...   \n",
       "3           0  [{'input': 'Does this paper mention human pati...   \n",
       "4           0  [{'input': 'Does this paper mention human pati...   \n",
       "..        ...                                                ...   \n",
       "71          0  [{'input': 'Does this paper mention human pati...   \n",
       "72          0  [{'input': 'Does this paper mention human pati...   \n",
       "73          1  [{'input': 'Does this paper mention human pati...   \n",
       "74          0  [{'input': 'Does this paper mention human pati...   \n",
       "75          0  [{'input': 'Does this paper mention human pati...   \n",
       "\n",
       "                                              Reasons  \n",
       "0                                                Null  \n",
       "1   The paper states that 'No recurrent attacks or...  \n",
       "2   According to the context, the study only inclu...  \n",
       "3   The study does not mention patients with unila...  \n",
       "4   The paper mentions three children with iatroge...  \n",
       "..                                                ...  \n",
       "71  The paper does not mention human patients or p...  \n",
       "72  The study does not report any patients with sy...  \n",
       "73                                               Null  \n",
       "74  The paper only mentions rats (Sprague–Dawley r...  \n",
       "75  The provided abstract and patient description ...  \n",
       "\n",
       "[76 rows x 3 columns]"
      ]
     },
     "execution_count": 14,
     "metadata": {},
     "output_type": "execute_result"
    }
   ],
   "source": [
    "df = {\n",
    "    \"Selection\": main,\n",
    "    \"Outputs\": final,\n",
    "    \"Reasons\": reasons\n",
    "    \n",
    "}\n",
    "df = pd.DataFrame(df)\n",
    "df"
   ]
  },
  {
   "cell_type": "code",
   "execution_count": 15,
   "metadata": {},
   "outputs": [],
   "source": [
    "##Change the name of the file while saving\n",
    "df.to_csv(\"full_text_screening_outputs/ExperimentPromptSet1/OutputPart3.csv\")"
   ]
  },
  {
   "cell_type": "code",
   "execution_count": 38,
   "metadata": {},
   "outputs": [],
   "source": [
    "prt1= pd.read_csv(\"full_text_screening_outputs/ExperimentPromptSet1/OutputPart1.csv\")\n",
    "prt2= pd.read_csv(\"full_text_screening_outputs/ExperimentPromptSet1/OutputPart2.csv\")\n",
    "prt3= pd.read_csv(\"full_text_screening_outputs/ExperimentPromptSet1/OutputPart3.csv\")"
   ]
  },
  {
   "cell_type": "code",
   "execution_count": 39,
   "metadata": {},
   "outputs": [],
   "source": [
    "model_output = []\n",
    "model_output.extend(list(prt1.Selection))\n",
    "model_output.extend(list(prt2.Selection))\n",
    "model_output.extend(list(prt3.Selection))\n",
    "\n",
    "\n",
    "reasons = []\n",
    "reasons.extend(list(prt1.Reasons))\n",
    "reasons.extend(list(prt2.Reasons))\n",
    "reasons.extend(list(prt3.Reasons))\n"
   ]
  },
  {
   "cell_type": "code",
   "execution_count": 40,
   "metadata": {},
   "outputs": [
    {
     "data": {
      "text/plain": [
       "300"
      ]
     },
     "execution_count": 40,
     "metadata": {},
     "output_type": "execute_result"
    }
   ],
   "source": [
    "len(model_output)"
   ]
  },
  {
   "cell_type": "code",
   "execution_count": 41,
   "metadata": {},
   "outputs": [],
   "source": [
    "final_data['model_output'] = model_output\n",
    "final_data['reasons'] = reasons"
   ]
  },
  {
   "cell_type": "code",
   "execution_count": 42,
   "metadata": {},
   "outputs": [
    {
     "name": "stdout",
     "output_type": "stream",
     "text": [
      "              precision    recall  f1-score   support\n",
      "\n",
      "         0.0       0.95      0.78      0.86       270\n",
      "         1.0       0.23      0.60      0.34        30\n",
      "\n",
      "    accuracy                           0.76       300\n",
      "   macro avg       0.59      0.69      0.60       300\n",
      "weighted avg       0.87      0.76      0.80       300\n",
      "\n"
     ]
    }
   ],
   "source": [
    "import numpy as np\n",
    "from sklearn.metrics import confusion_matrix\n",
    "from sklearn.metrics import classification_report\n",
    "\n",
    "ground_truth = list(final_data.final_selection)\n",
    "# Generate the confusion matrix\n",
    "cm = confusion_matrix(ground_truth, model_output)\n",
    "report = classification_report(ground_truth,model_output)\n",
    "print(report)\n"
   ]
  },
  {
   "cell_type": "code",
   "execution_count": 43,
   "metadata": {},
   "outputs": [
    {
     "data": {
      "image/png": "[encoded data removed]",
      "text/plain": [
       "<Figure size 800x600 with 2 Axes>"
      ]
     },
     "metadata": {},
     "output_type": "display_data"
    }
   ],
   "source": [
    "import matplotlib.pyplot as plt\n",
    "import seaborn as sns\n",
    "\n",
    "# Plotting the confusion matrix\n",
    "plt.figure(figsize=(8, 6))\n",
    "sns.heatmap(cm, annot=True, fmt='d', cmap='Blues', \n",
    "            xticklabels=['Rejected', 'Selected'],\n",
    "            yticklabels=['Rejected', 'Selected'])\n",
    "\n",
    "plt.xlabel('Predicted Labels')\n",
    "plt.ylabel('True Labels')\n",
    "plt.title('Confusion Matrix')\n",
    "plt.show()"
   ]
  },
  {
   "cell_type": "code",
   "execution_count": null,
   "metadata": {},
   "outputs": [],
   "source": []
  },
  {
   "cell_type": "markdown",
   "metadata": {},
   "source": [
    "### Experiment2: Prompt set2"
   ]
  },
  {
   "cell_type": "code",
   "execution_count": null,
   "metadata": {},
   "outputs": [],
   "source": [
    "bot = RAGBasedChatbot(\n",
    "    db_faiss_path = 'vectorstores/db_faiss',\n",
    ")\n",
    "bot.setup_llm('meditron')\n",
    "bot.setup_embedding()\n",
    "rejected = False\n",
    "final_selection = []\n",
    "final_reasons = []\n",
    "outputs = []\n",
    "wait = False\n",
    "questions = ['Does this paper mention human patients or participants above the age of 18?','Is the study about patients with unilateral vestibular hypofunction or Unilateral vestibular loss or Unilateral vestibular failure or Unilateral vestibular dysfunction or Unilateral vestibulopathy or Unilateral vestibular deafferentation or Unilateral vestibular disease or Unilateral vestibular disorder or Unilateral vestibular syndrome?','Does this paper describe any Chronic or Persistent or Enduring or Permanent or Uncompensated or Continuous or Recurrent symptoms lasting more than 3 months?','Does this paper mention the use of any of these tests: calroic tests, (video) head impulse tests or rotatory tests?']\n",
    "\n",
    "\n",
    "#change chunks[x] to process the documents x=0,1,2 (there are 3 chunks)\n",
    "\n",
    "for paper in tqdm(chunks[2],desc='computing...'): \n",
    "    path = paper\n",
    "    rejected = False\n",
    "    title = list(final_data[final_data.pdfs == path].titles)[0]\n",
    "    abstract = list(final_data[final_data.pdfs == path].abstracts)[0]\n",
    "\n",
    "    bot.load_document('pdfs/'+path)\n",
    "    bot.preprocess('pdfs/'+path)\n",
    "    bot.split_document()\n",
    "    bot.create_vector_db()\n",
    "    bot.setup_retriever()\n",
    "    bot.setup_reranker()\n",
    "    bot.create_prompt_template(title,abstract)\n",
    "    bot.create_rag_chain()\n",
    "    s=[]\n",
    "    for i,question in enumerate(questions): \n",
    "        try: \n",
    "            response = bot.ask_question(question)\n",
    "            #print(response)\n",
    "        except: \n",
    "            continue\n",
    "        s.append(response)\n",
    "        #print(response['answer'])\n",
    "        answer = json.loads(response['answer'])\n",
    "        try:\n",
    "            match = re.search(r'\\bno\\b', answer['answer'].lower())\n",
    "            # if i ==0 : \n",
    "            #     match = re.search(r'\\byes\\b', answer['answer'].lower())\n",
    "            # else: \n",
    "            #     match = re.search(r'\\bno\\b', answer['answer'].lower())\n",
    "        except: \n",
    "            continue\n",
    "        if match is not None:\n",
    "            final_selection.append(0)\n",
    "            final_reasons.append(answer['reason'])\n",
    "            rejected = True\n",
    "            break\n",
    "        else: \n",
    "            continue\n",
    "    outputs.append(s)\n",
    "    if wait: \n",
    "        break\n",
    "    if not rejected: \n",
    "        final_selection.append(1)\n",
    "        final_reasons.append(\"Null\")\n",
    "    clear_output(wait=True)\n",
    "\n"
   ]
  },
  {
   "cell_type": "code",
   "execution_count": null,
   "metadata": {},
   "outputs": [],
   "source": [
    "final = []\n",
    "main = []\n",
    "reasons = []\n"
   ]
  },
  {
   "cell_type": "code",
   "execution_count": null,
   "metadata": {},
   "outputs": [],
   "source": [
    "main.extend(final_selection)\n",
    "reasons.extend(final_reasons)\n",
    "final.extend(outputs)"
   ]
  },
  {
   "cell_type": "code",
   "execution_count": null,
   "metadata": {},
   "outputs": [
    {
     "data": {
      "text/html": [
       "<div>\n",
       "<style scoped>\n",
       "    .dataframe tbody tr th:only-of-type {\n",
       "        vertical-align: middle;\n",
       "    }\n",
       "\n",
       "    .dataframe tbody tr th {\n",
       "        vertical-align: top;\n",
       "    }\n",
       "\n",
       "    .dataframe thead th {\n",
       "        text-align: right;\n",
       "    }\n",
       "</style>\n",
       "<table border=\"1\" class=\"dataframe\">\n",
       "  <thead>\n",
       "    <tr style=\"text-align: right;\">\n",
       "      <th></th>\n",
       "      <th>Selection</th>\n",
       "      <th>Outputs</th>\n",
       "      <th>Reasons</th>\n",
       "    </tr>\n",
       "  </thead>\n",
       "  <tbody>\n",
       "    <tr>\n",
       "      <th>0</th>\n",
       "      <td>1</td>\n",
       "      <td>[{'input': 'Does this paper mention human pati...</td>\n",
       "      <td>Null</td>\n",
       "    </tr>\n",
       "    <tr>\n",
       "      <th>1</th>\n",
       "      <td>0</td>\n",
       "      <td>[{'input': 'Does this paper mention human pati...</td>\n",
       "      <td>The paper states that 'No recurrent attacks or...</td>\n",
       "    </tr>\n",
       "    <tr>\n",
       "      <th>2</th>\n",
       "      <td>0</td>\n",
       "      <td>[{'input': 'Does this paper mention human pati...</td>\n",
       "      <td>According to the context, the study only inclu...</td>\n",
       "    </tr>\n",
       "    <tr>\n",
       "      <th>3</th>\n",
       "      <td>0</td>\n",
       "      <td>[{'input': 'Does this paper mention human pati...</td>\n",
       "      <td>The study does not mention patients with unila...</td>\n",
       "    </tr>\n",
       "    <tr>\n",
       "      <th>4</th>\n",
       "      <td>0</td>\n",
       "      <td>[{'input': 'Does this paper mention human pati...</td>\n",
       "      <td>The paper mentions three children with iatroge...</td>\n",
       "    </tr>\n",
       "    <tr>\n",
       "      <th>...</th>\n",
       "      <td>...</td>\n",
       "      <td>...</td>\n",
       "      <td>...</td>\n",
       "    </tr>\n",
       "    <tr>\n",
       "      <th>71</th>\n",
       "      <td>0</td>\n",
       "      <td>[{'input': 'Does this paper mention human pati...</td>\n",
       "      <td>The paper does not mention human patients or p...</td>\n",
       "    </tr>\n",
       "    <tr>\n",
       "      <th>72</th>\n",
       "      <td>0</td>\n",
       "      <td>[{'input': 'Does this paper mention human pati...</td>\n",
       "      <td>The study does not report any patients with sy...</td>\n",
       "    </tr>\n",
       "    <tr>\n",
       "      <th>73</th>\n",
       "      <td>1</td>\n",
       "      <td>[{'input': 'Does this paper mention human pati...</td>\n",
       "      <td>Null</td>\n",
       "    </tr>\n",
       "    <tr>\n",
       "      <th>74</th>\n",
       "      <td>0</td>\n",
       "      <td>[{'input': 'Does this paper mention human pati...</td>\n",
       "      <td>The paper only mentions rats (Sprague–Dawley r...</td>\n",
       "    </tr>\n",
       "    <tr>\n",
       "      <th>75</th>\n",
       "      <td>0</td>\n",
       "      <td>[{'input': 'Does this paper mention human pati...</td>\n",
       "      <td>The provided abstract and patient description ...</td>\n",
       "    </tr>\n",
       "  </tbody>\n",
       "</table>\n",
       "<p>76 rows × 3 columns</p>\n",
       "</div>"
      ],
      "text/plain": [
       "    Selection                                            Outputs  \\\n",
       "0           1  [{'input': 'Does this paper mention human pati...   \n",
       "1           0  [{'input': 'Does this paper mention human pati...   \n",
       "2           0  [{'input': 'Does this paper mention human pati...   \n",
       "3           0  [{'input': 'Does this paper mention human pati...   \n",
       "4           0  [{'input': 'Does this paper mention human pati...   \n",
       "..        ...                                                ...   \n",
       "71          0  [{'input': 'Does this paper mention human pati...   \n",
       "72          0  [{'input': 'Does this paper mention human pati...   \n",
       "73          1  [{'input': 'Does this paper mention human pati...   \n",
       "74          0  [{'input': 'Does this paper mention human pati...   \n",
       "75          0  [{'input': 'Does this paper mention human pati...   \n",
       "\n",
       "                                              Reasons  \n",
       "0                                                Null  \n",
       "1   The paper states that 'No recurrent attacks or...  \n",
       "2   According to the context, the study only inclu...  \n",
       "3   The study does not mention patients with unila...  \n",
       "4   The paper mentions three children with iatroge...  \n",
       "..                                                ...  \n",
       "71  The paper does not mention human patients or p...  \n",
       "72  The study does not report any patients with sy...  \n",
       "73                                               Null  \n",
       "74  The paper only mentions rats (Sprague–Dawley r...  \n",
       "75  The provided abstract and patient description ...  \n",
       "\n",
       "[76 rows x 3 columns]"
      ]
     },
     "metadata": {},
     "output_type": "display_data"
    }
   ],
   "source": [
    "df = {\n",
    "    \"Selection\": main,\n",
    "    \"Outputs\": final,\n",
    "    \"Reasons\": reasons\n",
    "    \n",
    "}\n",
    "df = pd.DataFrame(df)\n",
    "df"
   ]
  },
  {
   "cell_type": "code",
   "execution_count": null,
   "metadata": {},
   "outputs": [],
   "source": [
    "##Change the name of the file while saving\n",
    "df.to_csv(\"full_text_screening_outputs/ExperimentPromptSet2/OutputPart3_new.csv\")"
   ]
  },
  {
   "cell_type": "code",
   "execution_count": 44,
   "metadata": {},
   "outputs": [],
   "source": [
    "prt1= pd.read_csv(\"full_text_screening_outputs/ExperimentPromptSet2/OutputPart1_new.csv\")\n",
    "prt2= pd.read_csv(\"full_text_screening_outputs/ExperimentPromptSet2/OutputPart2_new.csv\")\n",
    "prt3= pd.read_csv(\"full_text_screening_outputs/ExperimentPromptSet2/OutputPart3_new.csv\")"
   ]
  },
  {
   "cell_type": "code",
   "execution_count": 45,
   "metadata": {},
   "outputs": [],
   "source": [
    "model_output = []\n",
    "model_output.extend(list(prt1.Selection))\n",
    "model_output.extend(list(prt2.Selection))\n",
    "model_output.extend(list(prt3.Selection))\n",
    "\n",
    "\n",
    "reasons = []\n",
    "reasons.extend(list(prt1.Reasons))\n",
    "reasons.extend(list(prt2.Reasons))\n",
    "reasons.extend(list(prt3.Reasons))\n"
   ]
  },
  {
   "cell_type": "code",
   "execution_count": 46,
   "metadata": {},
   "outputs": [
    {
     "data": {
      "text/plain": [
       "300"
      ]
     },
     "execution_count": 46,
     "metadata": {},
     "output_type": "execute_result"
    }
   ],
   "source": [
    "len(model_output)"
   ]
  },
  {
   "cell_type": "code",
   "execution_count": 47,
   "metadata": {},
   "outputs": [],
   "source": [
    "final_data['model_output'] = model_output\n",
    "final_data['reasons'] = reasons"
   ]
  },
  {
   "cell_type": "code",
   "execution_count": 48,
   "metadata": {},
   "outputs": [
    {
     "name": "stdout",
     "output_type": "stream",
     "text": [
      "              precision    recall  f1-score   support\n",
      "\n",
      "         0.0       0.96      0.70      0.81       270\n",
      "         1.0       0.22      0.77      0.34        30\n",
      "\n",
      "    accuracy                           0.70       300\n",
      "   macro avg       0.59      0.73      0.57       300\n",
      "weighted avg       0.89      0.70      0.76       300\n",
      "\n"
     ]
    }
   ],
   "source": [
    "import numpy as np\n",
    "from sklearn.metrics import confusion_matrix\n",
    "from sklearn.metrics import classification_report\n",
    "\n",
    "ground_truth = list(final_data.final_selection)\n",
    "# Generate the confusion matrix\n",
    "cm = confusion_matrix(ground_truth, model_output)\n",
    "report = classification_report(ground_truth,model_output)\n",
    "print(report)\n"
   ]
  },
  {
   "cell_type": "code",
   "execution_count": 49,
   "metadata": {},
   "outputs": [
    {
     "data": {
      "image/png": "[encoded data removed]",
      "text/plain": [
       "<Figure size 800x600 with 2 Axes>"
      ]
     },
     "metadata": {},
     "output_type": "display_data"
    }
   ],
   "source": [
    "import matplotlib.pyplot as plt\n",
    "import seaborn as sns\n",
    "\n",
    "# Plotting the confusion matrix\n",
    "plt.figure(figsize=(8, 6))\n",
    "sns.heatmap(cm, annot=True, fmt='d', cmap='Blues', \n",
    "            xticklabels=['Rejected', 'Selected'],\n",
    "            yticklabels=['Rejected', 'Selected'])\n",
    "\n",
    "plt.xlabel('Predicted Labels')\n",
    "plt.ylabel('True Labels')\n",
    "plt.title('Confusion Matrix')\n",
    "plt.show()"
   ]
  },
  {
   "cell_type": "code",
   "execution_count": null,
   "metadata": {},
   "outputs": [],
   "source": []
  }
 ],
 "metadata": {
  "kernelspec": {
   "display_name": "rag-chatbot",
   "language": "python",
   "name": "python3"
  },
  "language_info": {
   "codemirror_mode": {
    "name": "ipython",
    "version": 3
   },
   "file_extension": ".py",
   "mimetype": "text/x-python",
   "name": "python",
   "nbconvert_exporter": "python",
   "pygments_lexer": "ipython3",
   "version": "3.10.14"
  }
 },
 "nbformat": 4,
 "nbformat_minor": 2
}
